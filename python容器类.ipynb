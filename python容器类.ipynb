{
 "cells": [
  {
   "cell_type": "code",
   "execution_count": 3,
   "metadata": {},
   "outputs": [
    {
     "name": "stdout",
     "output_type": "stream",
     "text": [
      "[('Rose', 19, 100), ('Disen', 20, 75), ('Jack', 21, 65)]\n"
     ]
    }
   ],
   "source": [
    "l_ = [('Disen', 20, 75), ('Jack', 21, 65), ('Rose', 19, 100)]\n",
    "\n",
    "l_.sort(key=lambda x: x[1], reverse=True)\n",
    "l_\n",
    "\n",
    "nl_ = sorted(l_, key=lambda x: x[2], reverse=True)\n",
    "print(nl_)"
   ]
  },
  {
   "cell_type": "code",
   "execution_count": 4,
   "metadata": {},
   "outputs": [
    {
     "data": {
      "text/plain": [
       "[1, 2, 3, 4, 5, 6]"
      ]
     },
     "execution_count": 4,
     "metadata": {},
     "output_type": "execute_result"
    }
   ],
   "source": [
    "# 给定列表 [[1,2], [3,4], [5,6]] 要求一行代码 转成 [1,2,3,4,5,6]  \n",
    "l = [[1,2], [3,4], [5,6]] \n",
    "[i for item in l for i in item]"
   ]
  },
  {
   "cell_type": "code",
   "execution_count": 7,
   "metadata": {},
   "outputs": [
    {
     "data": {
      "text/plain": [
       "{20: 'age', 9500: 'salary', 'disen': 'name'}"
      ]
     },
     "execution_count": 7,
     "metadata": {},
     "output_type": "execute_result"
    }
   ],
   "source": [
    "d = {'name':'disen', 'age':20, 'salary':9500}\n",
    "# 一行代码 实现 key-value互换\n",
    "{d.get(key):key for key in d}\n",
    "{value:key for key,value in d.items()}"
   ]
  },
  {
   "cell_type": "code",
   "execution_count": 10,
   "metadata": {},
   "outputs": [
    {
     "data": {
      "text/plain": [
       "'badc'"
      ]
     },
     "execution_count": 10,
     "metadata": {},
     "output_type": "execute_result"
    }
   ],
   "source": [
    "s = 'abcdacd'\n",
    "''.join(set(s))"
   ]
  },
  {
   "cell_type": "code",
   "execution_count": 11,
   "metadata": {},
   "outputs": [
    {
     "data": {
      "text/plain": [
       "['__class__',\n",
       " '__contains__',\n",
       " '__delattr__',\n",
       " '__delitem__',\n",
       " '__dir__',\n",
       " '__doc__',\n",
       " '__eq__',\n",
       " '__format__',\n",
       " '__ge__',\n",
       " '__getattribute__',\n",
       " '__getitem__',\n",
       " '__gt__',\n",
       " '__hash__',\n",
       " '__init__',\n",
       " '__init_subclass__',\n",
       " '__iter__',\n",
       " '__le__',\n",
       " '__len__',\n",
       " '__lt__',\n",
       " '__ne__',\n",
       " '__new__',\n",
       " '__reduce__',\n",
       " '__reduce_ex__',\n",
       " '__repr__',\n",
       " '__setattr__',\n",
       " '__setitem__',\n",
       " '__sizeof__',\n",
       " '__str__',\n",
       " '__subclasshook__',\n",
       " 'clear',\n",
       " 'copy',\n",
       " 'fromkeys',\n",
       " 'get',\n",
       " 'items',\n",
       " 'keys',\n",
       " 'pop',\n",
       " 'popitem',\n",
       " 'setdefault',\n",
       " 'update',\n",
       " 'values']"
      ]
     },
     "execution_count": 11,
     "metadata": {},
     "output_type": "execute_result"
    }
   ],
   "source": [
    "dir(dict)"
   ]
  },
  {
   "cell_type": "code",
   "execution_count": 12,
   "metadata": {},
   "outputs": [
    {
     "name": "stdout",
     "output_type": "stream",
     "text": [
      "[9]\n",
      "[1, 2, 3, 10]\n",
      "[9, 11]\n"
     ]
    }
   ],
   "source": [
    "def ac(a, l=[]):  # 空列表不能做为参数的默认值\n",
    "    l.append(a)\n",
    "    print(l)\n",
    "    \n",
    "ac(9)  # 输出 [9]\n",
    "ac(10, [1,2,3])  # [1,2,3,10]\n",
    "ac(11)  # [9, 11] 期望输出是  ［11］"
   ]
  },
  {
   "cell_type": "code",
   "execution_count": 13,
   "metadata": {},
   "outputs": [
    {
     "name": "stdout",
     "output_type": "stream",
     "text": [
      "[0, 9, 1, 2]\n"
     ]
    }
   ],
   "source": [
    "def av(l):\n",
    "    l += [1,2]\n",
    "    l = [5,6]\n",
    "    \n",
    "\n",
    "l = [0, 9]\n",
    "av(l)\n",
    "print(l)  # ［5，6］或 [0, 9] 或 [0,9, 1, 2]"
   ]
  },
  {
   "cell_type": "code",
   "execution_count": 18,
   "metadata": {},
   "outputs": [
    {
     "data": {
      "text/plain": [
       "True"
      ]
     },
     "execution_count": 18,
     "metadata": {},
     "output_type": "execute_result"
    }
   ],
   "source": [
    "# 不通过内置函数，判断 n 是否存在于 列表中\n",
    "# 不通过内置或对象函数，判断 key 是否存在 字典中\n",
    "\n",
    "l = [1,2,3,4,5,6,7]\n",
    "def exists_l(args, n):\n",
    "    return n in args\n",
    "\n",
    "exists_l(l, 9)\n",
    "exists_l({'name':'da', 'age':20}, 'age')"
   ]
  },
  {
   "cell_type": "code",
   "execution_count": 2,
   "metadata": {},
   "outputs": [
    {
     "name": "stdout",
     "output_type": "stream",
     "text": [
      "10\n",
      "12\n",
      "90\n",
      "100\n",
      "--over---\n"
     ]
    }
   ],
   "source": [
    "class Nums:\n",
    "    def __init__(self):\n",
    "        self.l_ = []\n",
    "    \n",
    "    def add(self, *n):\n",
    "        for i in n:\n",
    "            self.l_.append(i)\n",
    "        \n",
    "    def __iter__(self):\n",
    "        return iter(self.l_) # 返回迭代器\n",
    "    \n",
    "ns = Nums()\n",
    "ns.add(10, 12, 90,100)\n",
    "# for i in ns:  # ns对象是可以被迭代的\n",
    "#     print(i)\n",
    "ns_i = ns.__iter__()\n",
    "while True:\n",
    "    try:\n",
    "        print(next(ns_i))\n",
    "    except:\n",
    "        break\n",
    "\n",
    "print('--over---')"
   ]
  }
 ],
 "metadata": {
  "kernelspec": {
   "display_name": "Python 3",
   "language": "python",
   "name": "python3"
  },
  "language_info": {
   "codemirror_mode": {
    "name": "ipython",
    "version": 3
   },
   "file_extension": ".py",
   "mimetype": "text/x-python",
   "name": "python",
   "nbconvert_exporter": "python",
   "pygments_lexer": "ipython3",
   "version": "3.6.3"
  }
 },
 "nbformat": 4,
 "nbformat_minor": 2
}
