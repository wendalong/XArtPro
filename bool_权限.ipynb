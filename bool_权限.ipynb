{
 "cells": [
  {
   "cell_type": "code",
   "execution_count": 3,
   "metadata": {},
   "outputs": [
    {
     "name": "stdout",
     "output_type": "stream",
     "text": [
      "hihi\n",
      "空字典是False\n"
     ]
    }
   ],
   "source": [
    "if ('', ):\n",
    "    print('hihi')\n",
    "\n",
    "if not {}:\n",
    "    print('空字典是False')"
   ]
  },
  {
   "cell_type": "code",
   "execution_count": 10,
   "metadata": {},
   "outputs": [
    {
     "name": "stdout",
     "output_type": "stream",
     "text": [
      "3\n",
      "你没有 DELETE 权限\n",
      "你拥有 UPDATE 权限\n",
      "你已成功 取消 UPDATE 权限\n",
      "1\n"
     ]
    }
   ],
   "source": [
    "# 1 ： ADD\n",
    "# 2： UPDATE\n",
    "# 4:  DELETE\n",
    "# 8:  QUERY\n",
    "rs = {1:'ADD', 2:'UPDATE', 4:'DELETE', 8:'QUERY'}\n",
    "rights = 0\n",
    "\n",
    "def add(right):\n",
    "    global rights\n",
    "    rights |= right\n",
    "    \n",
    "def exists(right):\n",
    "    # global rights\n",
    "    if rights & right == right:\n",
    "        print('你拥有 %s 权限' % rs.get(right))\n",
    "        return True\n",
    "    else:\n",
    "        print('你没有 %s 权限' % rs.get(right))\n",
    "        return False\n",
    "    \n",
    "def remove(right):\n",
    "    global rights\n",
    "    if exists(right):\n",
    "        rights ^= right\n",
    "        print('你已成功 取消 %s 权限' % rs.get(right))\n",
    "        \n",
    "\n",
    "add(1)\n",
    "add(2)\n",
    "print(rights)\n",
    "exists(4)\n",
    "remove(2)\n",
    "print(rights)"
   ]
  },
  {
   "cell_type": "code",
   "execution_count": 12,
   "metadata": {},
   "outputs": [
    {
     "data": {
      "text/plain": [
       "True"
      ]
     },
     "execution_count": 12,
     "metadata": {},
     "output_type": "execute_result"
    }
   ],
   "source": [
    "any((1==1, 1>1, 1<1))"
   ]
  },
  {
   "cell_type": "code",
   "execution_count": 13,
   "metadata": {},
   "outputs": [
    {
     "data": {
      "text/plain": [
       "False"
      ]
     },
     "execution_count": 13,
     "metadata": {},
     "output_type": "execute_result"
    }
   ],
   "source": [
    "all((1==1, 1>1, 1<1))"
   ]
  }
 ],
 "metadata": {
  "kernelspec": {
   "display_name": "Python 3",
   "language": "python",
   "name": "python3"
  },
  "language_info": {
   "codemirror_mode": {
    "name": "ipython",
    "version": 3
   },
   "file_extension": ".py",
   "mimetype": "text/x-python",
   "name": "python",
   "nbconvert_exporter": "python",
   "pygments_lexer": "ipython3",
   "version": "3.6.3"
  }
 },
 "nbformat": 4,
 "nbformat_minor": 2
}
