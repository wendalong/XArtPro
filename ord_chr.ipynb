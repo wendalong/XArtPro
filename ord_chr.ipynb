{
 "cells": [
  {
   "cell_type": "code",
   "execution_count": 5,
   "metadata": {},
   "outputs": [
    {
     "data": {
      "text/plain": [
       "37"
      ]
     },
     "execution_count": 5,
     "metadata": {},
     "output_type": "execute_result"
    }
   ],
   "source": [
    "ord('%')  # 显示指定字符的ASCII值"
   ]
  },
  {
   "cell_type": "code",
   "execution_count": 6,
   "metadata": {},
   "outputs": [
    {
     "data": {
      "text/plain": [
       "'%'"
      ]
     },
     "execution_count": 6,
     "metadata": {},
     "output_type": "execute_result"
    }
   ],
   "source": [
    "chr(37)  # 显示指定ASCII值的字符"
   ]
  },
  {
   "cell_type": "code",
   "execution_count": 22,
   "metadata": {},
   "outputs": [
    {
     "name": "stdout",
     "output_type": "stream",
     "text": [
      "1\n",
      "3\n"
     ]
    }
   ],
   "source": [
    "import random\n",
    "print(random.randint(0,2))  # 产生 0 或 1 或 2\n",
    "print(random.randrange(1,5))  # 产生[1, 5) 的整数"
   ]
  },
  {
   "cell_type": "code",
   "execution_count": 25,
   "metadata": {},
   "outputs": [
    {
     "name": "stdout",
     "output_type": "stream",
     "text": [
      "1\n"
     ]
    }
   ],
   "source": [
    "ch_ = random.randint(ord('0'), ord('9'))\n",
    "print(chr(ch_))"
   ]
  },
  {
   "cell_type": "code",
   "execution_count": 29,
   "metadata": {},
   "outputs": [
    {
     "name": "stdout",
     "output_type": "stream",
     "text": [
      "r\n"
     ]
    }
   ],
   "source": [
    "ch_ = random.randint(ord('a'), ord('z'))\n",
    "print(chr(ch_))"
   ]
  },
  {
   "cell_type": "code",
   "execution_count": 34,
   "metadata": {},
   "outputs": [
    {
     "name": "stdout",
     "output_type": "stream",
     "text": [
      "C\n"
     ]
    }
   ],
   "source": [
    "ch_ = random.randint(ord('A'), ord('Z'))\n",
    "print(chr(ch_))"
   ]
  },
  {
   "cell_type": "code",
   "execution_count": 41,
   "metadata": {},
   "outputs": [
    {
     "name": "stdout",
     "output_type": "stream",
     "text": [
      "kUka\n"
     ]
    }
   ],
   "source": [
    "def randomChr(startChr, endChr):\n",
    "    return  chr(random.randint(ord(startChr), ord(endChr)))\n",
    "\n",
    "def randomNChr(n):  \n",
    "    newStr_ = []\n",
    "    for _ in range(n):\n",
    "        rd_ = random.randint(0,2)  # 0：数字， 1: 小写字母  2:大写字母\n",
    "        randStrs =  ('0', '9') if rd_ == 0 else ('a', 'z') if rd_ == 1 else ('A', 'Z')\n",
    "        newStr_.append(randomChr(*randStrs))\n",
    "    return ''.join(newStr_)\n",
    "\n",
    "print(randomNChr(4))"
   ]
  }
 ],
 "metadata": {
  "kernelspec": {
   "display_name": "Python 3",
   "language": "python",
   "name": "python3"
  },
  "language_info": {
   "codemirror_mode": {
    "name": "ipython",
    "version": 3
   },
   "file_extension": ".py",
   "mimetype": "text/x-python",
   "name": "python",
   "nbconvert_exporter": "python",
   "pygments_lexer": "ipython3",
   "version": "3.6.3"
  }
 },
 "nbformat": 4,
 "nbformat_minor": 2
}
