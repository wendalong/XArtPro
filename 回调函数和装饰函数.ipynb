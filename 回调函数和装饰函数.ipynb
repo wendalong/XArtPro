{
 "cells": [
  {
   "cell_type": "code",
   "execution_count": 6,
   "metadata": {},
   "outputs": [
    {
     "name": "stdout",
     "output_type": "stream",
     "text": [
      "Thread-7 ---开始下载---> http://www.baidu.com\n",
      "Thread-7 ---->响应的数据--><!DOCTYPE html>\n",
      "<!--STATUS OK--><html> <head><meta http-equiv=content-type content=text/html;charset=utf-8><meta http-equiv=X-UA-Compatible content=IE=Edge><meta content=always name=referrer><link rel=stylesheet type=text/css href=http://s1.bdstatic.com/r/www/cache/bdorz/baidu.min.css><title>ç¾åº¦ä¸ä¸ï¼ä½ å°±ç¥é</title></head> <body link=#0000cc> <div id=wrapper> <div id=head> <div class=head_wrapper> <div class=s_form> <div class=s_form_wrapper> <div id=lg> <img hidefocus=true src=//www.baidu.com/img/bd_logo1.png width=270 height=129> </div> <form id=form name=f action=//www.baidu.com/s class=fm> <input type=hidden name=bdorz_come value=1> <input type=hidden name=ie value=utf-8> <input type=hidden name=f value=8> <input type=hidden name=rsv_bp value=1> <input type=hidden name=rsv_idx value=1> <input type=hidden name=tn value=baidu><span class=\"bg s_ipt_wr\"><input id=kw name=wd class=s_ipt value maxlength=255 autocomplete=off autofocus></span><span class=\"bg s_btn_wr\"><input type=submit id=su value=ç¾åº¦ä¸ä¸ class=\"bg s_btn\"></span> </form> </div> </div> <div id=u1> <a href=http://news.baidu.com name=tj_trnews class=mnav>æ°é»</a> <a href=http://www.hao123.com name=tj_trhao123 class=mnav>hao123</a> <a href=http://map.baidu.com name=tj_trmap class=mnav>å°å¾</a> <a href=http://v.baidu.com name=tj_trvideo class=mnav>è§é¢</a> <a href=http://tieba.baidu.com name=tj_trtieba class=mnav>è´´å§</a> <noscript> <a href=http://www.baidu.com/bdorz/login.gif?login&amp;tpl=mn&amp;u=http%3A%2F%2Fwww.baidu.com%2f%3fbdorz_come%3d1 name=tj_login class=lb>ç»å½</a> </noscript> <script>document.write('<a href=\"http://www.baidu.com/bdorz/login.gif?login&tpl=mn&u='+ encodeURIComponent(window.location.href+ (window.location.search === \"\" ? \"?\" : \"&\")+ \"bdorz_come=1\")+ '\" name=\"tj_login\" class=\"lb\">ç»å½</a>');</script> <a href=//www.baidu.com/more/ name=tj_briicon class=bri style=\"display: block;\">æ´å¤äº§å</a> </div> </div> </div> <div id=ftCon> <div id=ftConw> <p id=lh> <a href=http://home.baidu.com>å",
      "³äºç¾åº¦</a> <a href=http://ir.baidu.com>About Baidu</a> </p> <p id=cp>&copy;2017&nbsp;Baidu&nbsp;<a href=http://www.baidu.com/duty/>ä½¿ç¨ç¾åº¦åå¿",
      "è¯»</a>&nbsp; <a href=http://jianyi.baidu.com/ class=cp-feedback>æè§åé¦</a>&nbsp;äº¬ICPè¯030173å·&nbsp; <img src=//www.baidu.com/img/gs.gif> </p> </div> </div> </div> </body> </html>\n",
      "\n"
     ]
    }
   ],
   "source": [
    "import time\n",
    "from threading import Thread, current_thread\n",
    "import requests\n",
    "\n",
    "def response(data):  # 回调函数\n",
    "    print(current_thread().name, '---->响应的数据-->'+ data)\n",
    "\n",
    "def start_requests(url, callback): \n",
    "    # 开始下载请求， 完成请求后，将数据通过callback返回\n",
    "    print(current_thread().name, '---开始下载--->', url)\n",
    "    time.sleep(2)\n",
    "    resp = requests.get(url)\n",
    "    data = resp.text\n",
    "    callback(data)  # 执行回调\n",
    "\n",
    "def download(url):\n",
    "    # 创建并开启线程，下载url\n",
    "    params = {\n",
    "        'url':url,\n",
    "        'callback': response\n",
    "    }\n",
    "    # Thread(target=start_requests, args=(url, response)).start()\n",
    "    Thread(target=start_requests, kwargs=params).start()\n",
    "\n",
    "download('http://www.baidu.com')"
   ]
  },
  {
   "cell_type": "code",
   "execution_count": 4,
   "metadata": {},
   "outputs": [
    {
     "name": "stdout",
     "output_type": "stream",
     "text": [
      "<function acc at 0x10d2d4620>\n",
      "['__annotations__', '__call__', '__class__', '__closure__', '__code__', '__defaults__', '__delattr__', '__dict__', '__dir__', '__doc__', '__eq__', '__format__', '__ge__', '__get__', '__getattribute__', '__globals__', '__gt__', '__hash__', '__init__', '__init_subclass__', '__kwdefaults__', '__le__', '__lt__', '__module__', '__name__', '__ne__', '__new__', '__qualname__', '__reduce__', '__reduce_ex__', '__repr__', '__setattr__', '__sizeof__', '__str__', '__subclasshook__']\n"
     ]
    }
   ],
   "source": [
    "def acc(n):\n",
    "    acc.n += n\n",
    "    print(acc.n)\n",
    "    \n",
    "acc.n = 20\n",
    "acc(100)"
   ]
  },
  {
   "cell_type": "code",
   "execution_count": 23,
   "metadata": {},
   "outputs": [
    {
     "name": "stdout",
     "output_type": "stream",
     "text": [
      "-----> Delete\n",
      "----> wrapper\n",
      "---有 Delete --\n",
      "start--> http://www.baidu.com\n",
      "end--> http://www.baidu.com\n",
      "--> downloader 执行时长(秒): 2.0035\n"
     ]
    }
   ],
   "source": [
    "import random\n",
    "\n",
    "# 不带参数的装饰函数\n",
    "def runtime(func):\n",
    "    def wrapper(*args, **kwargs):\n",
    "        start_time = time.time()\n",
    "        result = func(*args, **kwargs)\n",
    "        print('-->', func.__name__, '执行时长(秒):', round(time.time()-start_time, 4))\n",
    "        return result\n",
    "    return wrapper\n",
    "\n",
    "# 带参数的装饰函数\n",
    "def check_qx(qxName):\n",
    "    print('----->', qxName)\n",
    "    def wrapper1(func):\n",
    "        print('---->', func.__name__)\n",
    "        def wrapper2(*args, **kwargs):\n",
    "            if random.random() > 0.5:\n",
    "                print('---有 %s 权限--' % qxName)\n",
    "                return func(*args, **kwargs)\n",
    "            \n",
    "            print('---没有 %s 权限 --' % qxName)\n",
    "        return wrapper2\n",
    "    return wrapper1\n",
    "\n",
    "@check_qx('Delete')\n",
    "@runtime\n",
    "def downloader(url):\n",
    "    print('start-->', url)\n",
    "    time.sleep(2)\n",
    "    print('end-->', url)\n",
    "    \n",
    "downloader('http://www.baidu.com')"
   ]
  },
  {
   "cell_type": "code",
   "execution_count": 29,
   "metadata": {},
   "outputs": [
    {
     "name": "stdout",
     "output_type": "stream",
     "text": [
      "---初始化装饰器类---\n",
      "--有 UPDATE 权限--\n",
      "start--> http://www.baidu.com\n",
      "end--> http://www.baidu.com\n",
      "--> downloader 执行时长(秒): 2.0049\n"
     ]
    }
   ],
   "source": [
    "# 无参数的装饰器类\n",
    "class DecoratorRuntime:\n",
    "    def __init__(self, func):\n",
    "        self.func = func\n",
    "        print('---初始化装饰器类---')\n",
    "    \n",
    "    def __call__(self,*args, **kwargs):\n",
    "        start_time = time.time()\n",
    "        result = self.func(*args, **kwargs)\n",
    "        print('-->', self.func.__name__, '执行时长(秒):', round(time.time()-start_time, 4))\n",
    "        return result\n",
    "\n",
    "class DecoratorCheckQX:\n",
    "    def __init__(self, qxName):\n",
    "        self.qxName = qxName\n",
    "    \n",
    "    def __call__(self, func):\n",
    "        def wrapper(*args, **kwargs):\n",
    "            if random.random() > 0.5:\n",
    "                print('--有 %s 权限--' % self.qxName)\n",
    "                return func(*args, **kwargs)\n",
    "            print('--没有 %s 权限--' % self.qxName)\n",
    "        return wrapper\n",
    "\n",
    "@DecoratorCheckQX('UPDATE')\n",
    "@DecoratorRuntime\n",
    "def downloader(url):\n",
    "    print('start-->', url)\n",
    "    time.sleep(2)\n",
    "    print('end-->', url)\n",
    "    \n",
    "downloader('http://www.baidu.com')"
   ]
  }
 ],
 "metadata": {
  "kernelspec": {
   "display_name": "Python 3",
   "language": "python",
   "name": "python3"
  },
  "language_info": {
   "codemirror_mode": {
    "name": "ipython",
    "version": 3
   },
   "file_extension": ".py",
   "mimetype": "text/x-python",
   "name": "python",
   "nbconvert_exporter": "python",
   "pygments_lexer": "ipython3",
   "version": "3.6.3"
  }
 },
 "nbformat": 4,
 "nbformat_minor": 2
}
